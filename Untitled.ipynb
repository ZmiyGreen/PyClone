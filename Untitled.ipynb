{
 "cells": [
  {
   "cell_type": "code",
   "execution_count": 1,
   "metadata": {},
   "outputs": [],
   "source": [
    "import numpy as np\n",
    "import pandas as pd"
   ]
  },
  {
   "cell_type": "code",
   "execution_count": 5,
   "metadata": {},
   "outputs": [
    {
     "data": {
      "text/plain": [
       "7089"
      ]
     },
     "execution_count": 5,
     "metadata": {},
     "output_type": "execute_result"
    }
   ],
   "source": [
    "round(7877/100*90)"
   ]
  },
  {
   "cell_type": "code",
   "execution_count": 2,
   "metadata": {},
   "outputs": [],
   "source": [
    "df = pd.DataFrame({\n",
    "  \"A\" : np.random.randint(0, 9, 10),\n",
    "  \"B\" : np.random.randint(0, 9, 10)\n",
    "})"
   ]
  },
  {
   "cell_type": "code",
   "execution_count": 5,
   "metadata": {},
   "outputs": [
    {
     "data": {
      "text/html": [
       "<div>\n",
       "<style scoped>\n",
       "    .dataframe tbody tr th:only-of-type {\n",
       "        vertical-align: middle;\n",
       "    }\n",
       "\n",
       "    .dataframe tbody tr th {\n",
       "        vertical-align: top;\n",
       "    }\n",
       "\n",
       "    .dataframe thead th {\n",
       "        text-align: right;\n",
       "    }\n",
       "</style>\n",
       "<table border=\"1\" class=\"dataframe\">\n",
       "  <thead>\n",
       "    <tr style=\"text-align: right;\">\n",
       "      <th></th>\n",
       "      <th>A</th>\n",
       "      <th>B</th>\n",
       "    </tr>\n",
       "  </thead>\n",
       "  <tbody>\n",
       "    <tr>\n",
       "      <th>0</th>\n",
       "      <td>2</td>\n",
       "      <td>1</td>\n",
       "    </tr>\n",
       "    <tr>\n",
       "      <th>1</th>\n",
       "      <td>0</td>\n",
       "      <td>1</td>\n",
       "    </tr>\n",
       "    <tr>\n",
       "      <th>2</th>\n",
       "      <td>1</td>\n",
       "      <td>0</td>\n",
       "    </tr>\n",
       "    <tr>\n",
       "      <th>3</th>\n",
       "      <td>8</td>\n",
       "      <td>8</td>\n",
       "    </tr>\n",
       "    <tr>\n",
       "      <th>4</th>\n",
       "      <td>5</td>\n",
       "      <td>2</td>\n",
       "    </tr>\n",
       "    <tr>\n",
       "      <th>5</th>\n",
       "      <td>4</td>\n",
       "      <td>8</td>\n",
       "    </tr>\n",
       "    <tr>\n",
       "      <th>6</th>\n",
       "      <td>2</td>\n",
       "      <td>3</td>\n",
       "    </tr>\n",
       "  </tbody>\n",
       "</table>\n",
       "</div>"
      ],
      "text/plain": [
       "   A  B\n",
       "0  2  1\n",
       "1  0  1\n",
       "2  1  0\n",
       "3  8  8\n",
       "4  5  2\n",
       "5  4  8\n",
       "6  2  3"
      ]
     },
     "execution_count": 5,
     "metadata": {},
     "output_type": "execute_result"
    }
   ],
   "source": [
    "df.head(7)"
   ]
  },
  {
   "cell_type": "code",
   "execution_count": 4,
   "metadata": {},
   "outputs": [],
   "source": [
    "def my_chi2(O: list, E: list) -> float:\n",
    "    \"\"\"\n",
    "    :param O: Наблюдаемое значение\n",
    "    :param E: Ожидаемое значение\n",
    "    :return: Хи2 Пирсона\n",
    "    \"\"\"\n",
    "    chi2_val = 0\n",
    "    for o, e in zip(O, E):\n",
    "        chi2_val += ((e - o)**2)/e\n",
    "    return chi2_val"
   ]
  },
  {
   "cell_type": "code",
   "execution_count": 12,
   "metadata": {},
   "outputs": [
    {
     "name": "stdout",
     "output_type": "stream",
     "text": [
      "1 0\n",
      "2 1\n",
      "4 2\n"
     ]
    }
   ],
   "source": [
    "D = {0: 10, 1:20, 2: 30, 4:40}\n",
    "A = [10, 20, 30, 40]\n",
    "for i, j in zip(list(D.keys())[1:], list(D.keys())[:-1]):\n",
    "    print(f\"{i} {j}\")"
   ]
  },
  {
   "cell_type": "code",
   "execution_count": 33,
   "metadata": {},
   "outputs": [],
   "source": [
    "def p_value(level: float, chi2: float, free: int) -> float:\n",
    "    critical_dict = {\n",
    "        0.1: (2.706, 4.605, 6.251, 7.779, 9.236, 10.645, 12.017, 13.362, 14.684,\n",
    "              15.987, 17.275, 18.549, 19.812, 21.064, 22.307, 23.542, 24.769, 25.989,\n",
    "              27.204, 28.412, 29.615, 30.813, 32.007, 33.196, 34.382, 35.563, 36.741,\n",
    "              37.916, 39.087, 40.256),\n",
    "        0.05: (3.841, 5.991, 7.815, 9.488, 11.07, 12.592, 14.067,\n",
    "               15.507, 16.919, 18.307, 19.675, 21.026, 22.362, 23.685, 24.996, 26.296,\n",
    "               27.587, 28.869, 30.144, 31.41),\n",
    "        0.01: (6.635, 9.21, 11.345, 13.277, 15.086, 16.812, 18.475, 20.09, 21.66,\n",
    "               23.209, 24.725, 26.217, 27.688, 29.141, 30.578, 32, 33.409, 34.805,\n",
    "               36.191, 37.566)\n",
    "    }\n",
    "    free -= 1 # т.к. индексирование начинается с 0\n",
    "    for i, j in zip(list(critical_dict.keys())[1:], list(critical_dict.keys())[::1]):\n",
    "        if critical_dict[i][free] > chi2:\n",
    "            return critical_dict[j][free]"
   ]
  },
  {
   "cell_type": "code",
   "execution_count": 34,
   "metadata": {},
   "outputs": [
    {
     "name": "stdout",
     "output_type": "stream",
     "text": [
      "4.395604395604393\n",
      "3.841\n"
     ]
    }
   ],
   "source": [
    "O = [40, 32, 30, 48]\n",
    "E = [33.6, 38.4, 36.4, 41.6]\n",
    "var = my_chi2(O, E)\n",
    "print(var)\n",
    "print(p_value(0.01, var, 1))"
   ]
  },
  {
   "cell_type": "code",
   "execution_count": 34,
   "metadata": {},
   "outputs": [],
   "source": [
    "A = [10, 20, 30, 40, 50]\n"
   ]
  },
  {
   "cell_type": "code",
   "execution_count": null,
   "metadata": {},
   "outputs": [],
   "source": [
    "print(A.f)"
   ]
  }
 ],
 "metadata": {
  "kernelspec": {
   "display_name": "Python 3",
   "language": "python",
   "name": "python3"
  },
  "language_info": {
   "codemirror_mode": {
    "name": "ipython",
    "version": 3
   },
   "file_extension": ".py",
   "mimetype": "text/x-python",
   "name": "python",
   "nbconvert_exporter": "python",
   "pygments_lexer": "ipython3",
   "version": "3.7.3"
  }
 },
 "nbformat": 4,
 "nbformat_minor": 2
}
